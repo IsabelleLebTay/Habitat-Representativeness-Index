{
 "cells": [
  {
   "cell_type": "markdown",
   "metadata": {},
   "source": [
    "# A. Packages"
   ]
  },
  {
   "cell_type": "code",
   "execution_count": 2,
   "metadata": {},
   "outputs": [
    {
     "name": "stderr",
     "output_type": "stream",
     "text": [
      "<frozen importlib._bootstrap>:219: RuntimeWarning: scipy._lib.messagestream.MessageStream size changed, may indicate binary incompatibility. Expected 56 from C header, got 64 from PyObject\n"
     ]
    }
   ],
   "source": [
    "import math\n",
    "import random\n",
    "import fiona\n",
    "import shapely\n",
    "import os\n",
    "import csv\n",
    "import json\n",
    "import pandas as pd\n",
    "import matplotlib.pyplot as plt\n",
    "import seaborn as sns\n",
    "import fiona\n",
    "import geopandas as gpd\n",
    "from shapely.geometry import shape\n",
    "from shapely.ops import nearest_points\n",
    "import numpy as np\n",
    "import rasterio\n",
    "from rasterstats import zonal_stats\n",
    "from rasterio.features import shapes\n",
    "from shapely.geometry import shape"
   ]
  },
  {
   "cell_type": "markdown",
   "metadata": {},
   "source": [
    "# B. Simulations"
   ]
  },
  {
   "cell_type": "code",
   "execution_count": 15,
   "metadata": {},
   "outputs": [],
   "source": [
    "q = 0.3\n",
    "p = 0.17\n",
    "actual_props = [random.random() for i in range(100)]\n",
    "target_props = [0.3 for i in range(100)]\n",
    "# 1 - abs(p-q)/0.3\n"
   ]
  },
  {
   "cell_type": "code",
   "execution_count": 10,
   "metadata": {},
   "outputs": [
    {
     "data": {
      "text/plain": [
       "0.9956666666666667"
      ]
     },
     "execution_count": 10,
     "metadata": {},
     "output_type": "execute_result"
    }
   ],
   "source": [
    "1 - abs(p-q)/sum(target_props)"
   ]
  },
  {
   "cell_type": "code",
   "execution_count": 7,
   "metadata": {},
   "outputs": [
    {
     "data": {
      "text/plain": [
       "[0.3, 0.3, 0.3, 0.3, 0.3, 0.3, 0.3, 0.3, 0.3, 0.3]"
      ]
     },
     "execution_count": 7,
     "metadata": {},
     "output_type": "execute_result"
    }
   ],
   "source": [
    "target_props"
   ]
  },
  {
   "cell_type": "markdown",
   "metadata": {},
   "source": [
    "## B.2 Gini sim"
   ]
  },
  {
   "cell_type": "code",
   "execution_count": 25,
   "metadata": {},
   "outputs": [
    {
     "name": "stdout",
     "output_type": "stream",
     "text": [
      "Total Areas of Ecoregions: [437.08610696 955.64287577 758.79454763 638.79263578]\n",
      "Protected Areas within Ecoregions: [109.27152674065655, 238.91071894223114, 189.69863690756614, 159.69815894433324]\n",
      "Biodiversity 30x30 Target 3 Indicator: 1.0\n"
     ]
    },
    {
     "name": "stdout",
     "output_type": "stream",
     "text": [
      "\u001b[1;31mDocstring:\u001b[0m\n",
      "uniform(low=0.0, high=1.0, size=None)\n",
      "\n",
      "Draw samples from a uniform distribution.\n",
      "\n",
      "Samples are uniformly distributed over the half-open interval\n",
      "``[low, high)`` (includes low, but excludes high).  In other words,\n",
      "any value within the given interval is equally likely to be drawn\n",
      "by `uniform`.\n",
      "\n",
      ".. note::\n",
      "    New code should use the `~numpy.random.Generator.uniform`\n",
      "    method of a `~numpy.random.Generator` instance instead;\n",
      "    please see the :ref:`random-quick-start`.\n",
      "\n",
      "Parameters\n",
      "----------\n",
      "low : float or array_like of floats, optional\n",
      "    Lower boundary of the output interval.  All values generated will be\n",
      "    greater than or equal to low.  The default value is 0.\n",
      "high : float or array_like of floats\n",
      "    Upper boundary of the output interval.  All values generated will be\n",
      "    less than or equal to high.  The high limit may be included in the \n",
      "    returned array of floats due to floating-point rounding in the \n",
      "    equation ``low + (high-low) * random_sample()``.  The default value \n",
      "    is 1.0.\n",
      "size : int or tuple of ints, optional\n",
      "    Output shape.  If the given shape is, e.g., ``(m, n, k)``, then\n",
      "    ``m * n * k`` samples are drawn.  If size is ``None`` (default),\n",
      "    a single value is returned if ``low`` and ``high`` are both scalars.\n",
      "    Otherwise, ``np.broadcast(low, high).size`` samples are drawn.\n",
      "\n",
      "Returns\n",
      "-------\n",
      "out : ndarray or scalar\n",
      "    Drawn samples from the parameterized uniform distribution.\n",
      "\n",
      "See Also\n",
      "--------\n",
      "randint : Discrete uniform distribution, yielding integers.\n",
      "random_integers : Discrete uniform distribution over the closed\n",
      "                  interval ``[low, high]``.\n",
      "random_sample : Floats uniformly distributed over ``[0, 1)``.\n",
      "random : Alias for `random_sample`.\n",
      "rand : Convenience function that accepts dimensions as input, e.g.,\n",
      "       ``rand(2,2)`` would generate a 2-by-2 array of floats,\n",
      "       uniformly distributed over ``[0, 1)``.\n",
      "random.Generator.uniform: which should be used for new code.\n",
      "\n",
      "Notes\n",
      "-----\n",
      "The probability density function of the uniform distribution is\n",
      "\n",
      ".. math:: p(x) = \\frac{1}{b - a}\n",
      "\n",
      "anywhere within the interval ``[a, b)``, and zero elsewhere.\n",
      "\n",
      "When ``high`` == ``low``, values of ``low`` will be returned.\n",
      "If ``high`` < ``low``, the results are officially undefined\n",
      "and may eventually raise an error, i.e. do not rely on this\n",
      "function to behave when passed arguments satisfying that\n",
      "inequality condition. The ``high`` limit may be included in the\n",
      "returned array of floats due to floating-point rounding in the\n",
      "equation ``low + (high-low) * random_sample()``. For example:\n",
      "\n",
      ">>> x = np.float32(5*0.99999999)\n",
      ">>> x\n",
      "5.0\n",
      "\n",
      "\n",
      "Examples\n",
      "--------\n",
      "Draw samples from the distribution:\n",
      "\n",
      ">>> s = np.random.uniform(-1,0,1000)\n",
      "\n",
      "All values are within the given interval:\n",
      "\n",
      ">>> np.all(s >= -1)\n",
      "True\n",
      ">>> np.all(s < 0)\n",
      "True\n",
      "\n",
      "Display the histogram of the samples, along with the\n",
      "probability density function:\n",
      "\n",
      ">>> import matplotlib.pyplot as plt\n",
      ">>> count, bins, ignored = plt.hist(s, 15, density=True)\n",
      ">>> plt.plot(bins, np.ones_like(bins), linewidth=2, color='r')\n",
      ">>> plt.show()\n",
      "\u001b[1;31mType:\u001b[0m      builtin_function_or_method"
     ]
    }
   ],
   "source": [
    "import numpy as np\n",
    "\n",
    "def gini_index(p):\n",
    "    \"\"\"\n",
    "    Calculate the Gini index for a given distribution.\n",
    "    \n",
    "    Parameters:\n",
    "    p (array): Array representing the distribution proportions.\n",
    "    \n",
    "    Returns:\n",
    "    float: Gini index.\n",
    "    \"\"\"\n",
    "    n = len(p)  # Number of elements in the array p\n",
    "    \n",
    "    sorted_p = np.sort(p)  # Sort the array p in ascending order\n",
    "    \n",
    "    # Calculate the Gini index using the correct formula\n",
    "    sum_i_p = np.sum((np.arange(1, n + 1) * sorted_p))  # Weighted sum of sorted proportions\n",
    "    gini = (2 * sum_i_p) / (n * np.sum(sorted_p)) - (n + 1) / n\n",
    "    \n",
    "    return gini\n",
    "\n",
    "def calculate_gini_indicator(A, P):\n",
    "    \"\"\"\n",
    "    Calculate the biodiversity 30x30 target 3 indicator using the Gini index.\n",
    "    \n",
    "    Parameters:\n",
    "    A (array): Total area of each ecoregion.\n",
    "    P (array): Protected area within each ecoregion.\n",
    "    \n",
    "    Returns:\n",
    "    float: Indicator value bounded between 0 and 1.\n",
    "    \"\"\"\n",
    "    # Calculate the proportion of protected area relative to total area for each ecoregion\n",
    "    p_per_area = P / A\n",
    "    \n",
    "    # Calculate the Gini index for the protected area proportions\n",
    "    gini_protected = gini_index(p_per_area)\n",
    "    \n",
    "    # Normalize the Gini index to get the indicator (1 - Gini index)\n",
    "    indicator = 1 - gini_protected\n",
    "    \n",
    "    return indicator  # Return the indicator value\n",
    "\n",
    "# Simulate data for testing\n",
    "np.random.seed(42)  # For reproducibility\n",
    "num_ecoregions = 4\n",
    "total_areas = np.random.uniform(100, 1000, num_ecoregions)  # Total area of each ecoregion\n",
    "# protected_areas = np.random.uniform(0, total_areas)  # Protected area within each ecoregion\n",
    "protected_areas = [0.25*area for area in total_areas]\n",
    "?np.random.uniform\n",
    "# Calculate the indicator\n",
    "indicator_value = calculate_gini_indicator(total_areas, protected_areas)\n",
    "\n",
    "# Print the results\n",
    "print(\"Total Areas of Ecoregions:\", total_areas)\n",
    "print(\"Protected Areas within Ecoregions:\", protected_areas)\n",
    "print(\"Biodiversity 30x30 Target 3 Indicator:\", indicator_value)\n"
   ]
  },
  {
   "cell_type": "markdown",
   "metadata": {},
   "source": [
    "### Gini Index Formula\n",
    "\n",
    "The Gini index is calculated using the following formula:\n",
    "\n",
    "$$\n",
    "G = \\frac{2 \\sum_{i=1}^{n} i \\cdot p_i}{n \\sum_{i=1}^{n} p_i} - \\frac{n + 1}{n}\n",
    "$$\n",
    "\n",
    "Where:\n",
    "- *n* is the number of observations.\n",
    "- $p_{i}$ is the value at position *i* in the sorted array.\n"
   ]
  },
  {
   "cell_type": "markdown",
   "metadata": {},
   "source": [
    "# C. Geospatial"
   ]
  },
  {
   "cell_type": "code",
   "execution_count": 3,
   "metadata": {},
   "outputs": [],
   "source": [
    "ecozone_path = r\"C:\\Users\\ilebe\\Documents\\!Masters!\\BIOS2\\Biodiversity indicators\\Target 3 indicator\\Ecoregion shapefile\"\n",
    "protected_areas_path = r\"C:\\Users\\ilebe\\Documents\\!Masters!\\BIOS2\\Biodiversity indicators\\Target 3 indicator\\ProtectedConservedArea_2023\\ProtectedConservedArea_2023.gdb\""
   ]
  },
  {
   "cell_type": "code",
   "execution_count": 4,
   "metadata": {},
   "outputs": [],
   "source": [
    "ecozones = gpd.read_file(os.path.join(ecozone_path, \"ecoregions.shp\"))"
   ]
  },
  {
   "cell_type": "code",
   "execution_count": 23,
   "metadata": {},
   "outputs": [],
   "source": [
    "ecozone_area = ecozones.groupby(by = \"ECOZONE\").agg({'AREA': \"sum\"}, index = False)"
   ]
  },
  {
   "cell_type": "code",
   "execution_count": 24,
   "metadata": {},
   "outputs": [
    {
     "data": {
      "text/html": [
       "<div>\n",
       "<style scoped>\n",
       "    .dataframe tbody tr th:only-of-type {\n",
       "        vertical-align: middle;\n",
       "    }\n",
       "\n",
       "    .dataframe tbody tr th {\n",
       "        vertical-align: top;\n",
       "    }\n",
       "\n",
       "    .dataframe thead th {\n",
       "        text-align: right;\n",
       "    }\n",
       "</style>\n",
       "<table border=\"1\" class=\"dataframe\">\n",
       "  <thead>\n",
       "    <tr style=\"text-align: right;\">\n",
       "      <th></th>\n",
       "      <th>AREA</th>\n",
       "    </tr>\n",
       "    <tr>\n",
       "      <th>ECOZONE</th>\n",
       "      <th></th>\n",
       "    </tr>\n",
       "  </thead>\n",
       "  <tbody>\n",
       "    <tr>\n",
       "      <th>1</th>\n",
       "      <td>104.14075</td>\n",
       "    </tr>\n",
       "    <tr>\n",
       "      <th>2</th>\n",
       "      <td>756.53902</td>\n",
       "    </tr>\n",
       "    <tr>\n",
       "      <th>3</th>\n",
       "      <td>300.76924</td>\n",
       "    </tr>\n",
       "    <tr>\n",
       "      <th>4</th>\n",
       "      <td>118.55645</td>\n",
       "    </tr>\n",
       "    <tr>\n",
       "      <th>5</th>\n",
       "      <td>222.27207</td>\n",
       "    </tr>\n",
       "    <tr>\n",
       "      <th>6</th>\n",
       "      <td>267.96489</td>\n",
       "    </tr>\n",
       "    <tr>\n",
       "      <th>7</th>\n",
       "      <td>33.11873</td>\n",
       "    </tr>\n",
       "    <tr>\n",
       "      <th>8</th>\n",
       "      <td>19.13901</td>\n",
       "    </tr>\n",
       "    <tr>\n",
       "      <th>9</th>\n",
       "      <td>104.42423</td>\n",
       "    </tr>\n",
       "    <tr>\n",
       "      <th>10</th>\n",
       "      <td>59.71002</td>\n",
       "    </tr>\n",
       "    <tr>\n",
       "      <th>11</th>\n",
       "      <td>50.97879</td>\n",
       "    </tr>\n",
       "    <tr>\n",
       "      <th>12</th>\n",
       "      <td>77.11271</td>\n",
       "    </tr>\n",
       "    <tr>\n",
       "      <th>13</th>\n",
       "      <td>33.41329</td>\n",
       "    </tr>\n",
       "    <tr>\n",
       "      <th>14</th>\n",
       "      <td>65.38687</td>\n",
       "    </tr>\n",
       "    <tr>\n",
       "      <th>15</th>\n",
       "      <td>61.35809</td>\n",
       "    </tr>\n",
       "  </tbody>\n",
       "</table>\n",
       "</div>"
      ],
      "text/plain": [
       "              AREA\n",
       "ECOZONE           \n",
       "1        104.14075\n",
       "2        756.53902\n",
       "3        300.76924\n",
       "4        118.55645\n",
       "5        222.27207\n",
       "6        267.96489\n",
       "7         33.11873\n",
       "8         19.13901\n",
       "9        104.42423\n",
       "10        59.71002\n",
       "11        50.97879\n",
       "12        77.11271\n",
       "13        33.41329\n",
       "14        65.38687\n",
       "15        61.35809"
      ]
     },
     "execution_count": 24,
     "metadata": {},
     "output_type": "execute_result"
    }
   ],
   "source": [
    "ecozone_area"
   ]
  },
  {
   "cell_type": "code",
   "execution_count": 7,
   "metadata": {},
   "outputs": [
    {
     "data": {
      "text/html": [
       "<div>\n",
       "<style scoped>\n",
       "    .dataframe tbody tr th:only-of-type {\n",
       "        vertical-align: middle;\n",
       "    }\n",
       "\n",
       "    .dataframe tbody tr th {\n",
       "        vertical-align: top;\n",
       "    }\n",
       "\n",
       "    .dataframe thead th {\n",
       "        text-align: right;\n",
       "    }\n",
       "</style>\n",
       "<table border=\"1\" class=\"dataframe\">\n",
       "  <thead>\n",
       "    <tr style=\"text-align: right;\">\n",
       "      <th></th>\n",
       "      <th>AREA</th>\n",
       "      <th>PERIMETER</th>\n",
       "      <th>REGION_</th>\n",
       "      <th>REGION_ID</th>\n",
       "      <th>ECOREGION</th>\n",
       "      <th>REGION_NAM</th>\n",
       "      <th>REGION_NOM</th>\n",
       "      <th>ECOZONE</th>\n",
       "      <th>geometry</th>\n",
       "    </tr>\n",
       "  </thead>\n",
       "  <tbody>\n",
       "    <tr>\n",
       "      <th>0</th>\n",
       "      <td>49.25608</td>\n",
       "      <td>164.46251</td>\n",
       "      <td>2</td>\n",
       "      <td>1</td>\n",
       "      <td>8</td>\n",
       "      <td>Ellesmere Mountains</td>\n",
       "      <td>Chaîne Ellesmere</td>\n",
       "      <td>2</td>\n",
       "      <td>POLYGON ((-68.20408 82.46110, -68.21848 82.450...</td>\n",
       "    </tr>\n",
       "    <tr>\n",
       "      <th>1</th>\n",
       "      <td>49.63573</td>\n",
       "      <td>146.56887</td>\n",
       "      <td>3</td>\n",
       "      <td>2</td>\n",
       "      <td>9</td>\n",
       "      <td>Eureka Hills</td>\n",
       "      <td>Collines Eureka</td>\n",
       "      <td>2</td>\n",
       "      <td>POLYGON ((-68.20408 82.46110, -68.22731 82.469...</td>\n",
       "    </tr>\n",
       "    <tr>\n",
       "      <th>2</th>\n",
       "      <td>18.74491</td>\n",
       "      <td>99.14604</td>\n",
       "      <td>4</td>\n",
       "      <td>3</td>\n",
       "      <td>1</td>\n",
       "      <td>Ellesmere and Devon Island IceCaps</td>\n",
       "      <td>Calottes glacières Ellesmere et Devon</td>\n",
       "      <td>1</td>\n",
       "      <td>POLYGON ((-70.95227 82.90569, -70.91701 82.902...</td>\n",
       "    </tr>\n",
       "  </tbody>\n",
       "</table>\n",
       "</div>"
      ],
      "text/plain": [
       "       AREA  PERIMETER  REGION_  REGION_ID  ECOREGION  \\\n",
       "0  49.25608  164.46251        2          1          8   \n",
       "1  49.63573  146.56887        3          2          9   \n",
       "2  18.74491   99.14604        4          3          1   \n",
       "\n",
       "                           REGION_NAM                             REGION_NOM  \\\n",
       "0                 Ellesmere Mountains                       Chaîne Ellesmere   \n",
       "1                        Eureka Hills                        Collines Eureka   \n",
       "2  Ellesmere and Devon Island IceCaps  Calottes glacières Ellesmere et Devon   \n",
       "\n",
       "   ECOZONE                                           geometry  \n",
       "0        2  POLYGON ((-68.20408 82.46110, -68.21848 82.450...  \n",
       "1        2  POLYGON ((-68.20408 82.46110, -68.22731 82.469...  \n",
       "2        1  POLYGON ((-70.95227 82.90569, -70.91701 82.902...  "
      ]
     },
     "execution_count": 7,
     "metadata": {},
     "output_type": "execute_result"
    }
   ],
   "source": [
    "ecozones.head(3)"
   ]
  },
  {
   "cell_type": "code",
   "execution_count": 5,
   "metadata": {},
   "outputs": [
    {
     "data": {
      "text/plain": [
       "array([ 2,  1,  3, 11,  4,  5, 12,  9, 13,  6, 15, 14, 10,  7,  8],\n",
       "      dtype=int64)"
      ]
     },
     "execution_count": 5,
     "metadata": {},
     "output_type": "execute_result"
    }
   ],
   "source": [
    "ecozones.ECOZONE.unique()"
   ]
  },
  {
   "cell_type": "code",
   "execution_count": 9,
   "metadata": {},
   "outputs": [],
   "source": [
    "protected_areas_gdb = gpd.read_file(protected_areas_path)"
   ]
  },
  {
   "cell_type": "code",
   "execution_count": 10,
   "metadata": {},
   "outputs": [
    {
     "data": {
      "text/html": [
       "<div>\n",
       "<style scoped>\n",
       "    .dataframe tbody tr th:only-of-type {\n",
       "        vertical-align: middle;\n",
       "    }\n",
       "\n",
       "    .dataframe tbody tr th {\n",
       "        vertical-align: top;\n",
       "    }\n",
       "\n",
       "    .dataframe thead th {\n",
       "        text-align: right;\n",
       "    }\n",
       "</style>\n",
       "<table border=\"1\" class=\"dataframe\">\n",
       "  <thead>\n",
       "    <tr style=\"text-align: right;\">\n",
       "      <th></th>\n",
       "      <th>PARENT_ID</th>\n",
       "      <th>NAME_E</th>\n",
       "      <th>NAME_F</th>\n",
       "      <th>NAME_IND</th>\n",
       "      <th>ZONE_ID</th>\n",
       "      <th>ZONEDESC_E</th>\n",
       "      <th>BIOME</th>\n",
       "      <th>JUR_ID</th>\n",
       "      <th>PA_OECM_DF</th>\n",
       "      <th>IUCN_CAT</th>\n",
       "      <th>...</th>\n",
       "      <th>NO_TAKE_HA</th>\n",
       "      <th>MPLAN</th>\n",
       "      <th>MPLAN_REF</th>\n",
       "      <th>M_EFF</th>\n",
       "      <th>AUDITYEAR</th>\n",
       "      <th>AUDITRES</th>\n",
       "      <th>PROVIDER</th>\n",
       "      <th>Shape_Length</th>\n",
       "      <th>Shape_Area</th>\n",
       "      <th>geometry</th>\n",
       "    </tr>\n",
       "  </thead>\n",
       "  <tbody>\n",
       "    <tr>\n",
       "      <th>0</th>\n",
       "      <td>610000101</td>\n",
       "      <td>Thelon Wildlife Sanctuary</td>\n",
       "      <td>Refuge faunique de Thelon</td>\n",
       "      <td>None</td>\n",
       "      <td>610000101</td>\n",
       "      <td>Terrestrial Zone</td>\n",
       "      <td>T</td>\n",
       "      <td>Thelon Wildlife Sanctuary - NWT portion</td>\n",
       "      <td>1</td>\n",
       "      <td>2</td>\n",
       "      <td>...</td>\n",
       "      <td>0.0</td>\n",
       "      <td>1.0</td>\n",
       "      <td>None</td>\n",
       "      <td>0.0</td>\n",
       "      <td>NaN</td>\n",
       "      <td>None</td>\n",
       "      <td>61</td>\n",
       "      <td>830171.275201</td>\n",
       "      <td>2.127009e+10</td>\n",
       "      <td>MULTIPOLYGON (((-287166.514 2705871.281, -2871...</td>\n",
       "    </tr>\n",
       "    <tr>\n",
       "      <th>1</th>\n",
       "      <td>610000201</td>\n",
       "      <td>Ts’udé Nilįné Tuyeta Territorial Protected Area</td>\n",
       "      <td>Zone terrestre protégée Ts’udé Nilįné Tuyeta</td>\n",
       "      <td>Ts’udé Nilįné Tuyeta</td>\n",
       "      <td>610000201</td>\n",
       "      <td>Terrestrial Zone</td>\n",
       "      <td>T</td>\n",
       "      <td>None</td>\n",
       "      <td>1</td>\n",
       "      <td>2</td>\n",
       "      <td>...</td>\n",
       "      <td>0.0</td>\n",
       "      <td>NaN</td>\n",
       "      <td>None</td>\n",
       "      <td>NaN</td>\n",
       "      <td>NaN</td>\n",
       "      <td>None</td>\n",
       "      <td>61</td>\n",
       "      <td>505364.180100</td>\n",
       "      <td>1.010895e+10</td>\n",
       "      <td>MULTIPOLYGON (((-1408773.044 3273626.745, -140...</td>\n",
       "    </tr>\n",
       "    <tr>\n",
       "      <th>2</th>\n",
       "      <td>610000202</td>\n",
       "      <td>Thaidene Nëné Territorial Protected Area</td>\n",
       "      <td>Zone terrestre protégée Thaidene Nëné</td>\n",
       "      <td>Thaidene Nëné</td>\n",
       "      <td>610000202</td>\n",
       "      <td>Terrestrial Zone</td>\n",
       "      <td>T</td>\n",
       "      <td>None</td>\n",
       "      <td>1</td>\n",
       "      <td>2</td>\n",
       "      <td>...</td>\n",
       "      <td>0.0</td>\n",
       "      <td>NaN</td>\n",
       "      <td>None</td>\n",
       "      <td>NaN</td>\n",
       "      <td>NaN</td>\n",
       "      <td>None</td>\n",
       "      <td>61</td>\n",
       "      <td>958018.746367</td>\n",
       "      <td>9.106363e+09</td>\n",
       "      <td>MULTIPOLYGON (((-713146.239 2569701.709, -7121...</td>\n",
       "    </tr>\n",
       "    <tr>\n",
       "      <th>3</th>\n",
       "      <td>610000203</td>\n",
       "      <td>Thaidene Nëné Wildlife Conservation Area</td>\n",
       "      <td>Zone de conservation de la faune Thaidene Nëné</td>\n",
       "      <td>Thaidene Nëné</td>\n",
       "      <td>610000203</td>\n",
       "      <td>Terrestrial Zone</td>\n",
       "      <td>T</td>\n",
       "      <td>None</td>\n",
       "      <td>2</td>\n",
       "      <td>9</td>\n",
       "      <td>...</td>\n",
       "      <td>0.0</td>\n",
       "      <td>NaN</td>\n",
       "      <td>None</td>\n",
       "      <td>NaN</td>\n",
       "      <td>NaN</td>\n",
       "      <td>None</td>\n",
       "      <td>61</td>\n",
       "      <td>221170.089268</td>\n",
       "      <td>3.120447e+09</td>\n",
       "      <td>MULTIPOLYGON (((-490397.641 2645504.245, -5158...</td>\n",
       "    </tr>\n",
       "    <tr>\n",
       "      <th>4</th>\n",
       "      <td>610000301</td>\n",
       "      <td>Ezǫdzìtì</td>\n",
       "      <td>Ezǫdzìtì</td>\n",
       "      <td>Ezǫdzìtì</td>\n",
       "      <td>610000301</td>\n",
       "      <td>Terrestrial Zone</td>\n",
       "      <td>T</td>\n",
       "      <td>None</td>\n",
       "      <td>1</td>\n",
       "      <td>2</td>\n",
       "      <td>...</td>\n",
       "      <td>0.0</td>\n",
       "      <td>NaN</td>\n",
       "      <td>None</td>\n",
       "      <td>NaN</td>\n",
       "      <td>NaN</td>\n",
       "      <td>None</td>\n",
       "      <td>61</td>\n",
       "      <td>164975.599229</td>\n",
       "      <td>1.375098e+09</td>\n",
       "      <td>MULTIPOLYGON (((-1063986.349 2881501.817, -109...</td>\n",
       "    </tr>\n",
       "  </tbody>\n",
       "</table>\n",
       "<p>5 rows × 37 columns</p>\n",
       "</div>"
      ],
      "text/plain": [
       "   PARENT_ID                                           NAME_E  \\\n",
       "0  610000101                        Thelon Wildlife Sanctuary   \n",
       "1  610000201  Ts’udé Nilįné Tuyeta Territorial Protected Area   \n",
       "2  610000202         Thaidene Nëné Territorial Protected Area   \n",
       "3  610000203         Thaidene Nëné Wildlife Conservation Area   \n",
       "4  610000301                                        Ezǫdzìtì   \n",
       "\n",
       "                                           NAME_F              NAME_IND  \\\n",
       "0                       Refuge faunique de Thelon                  None   \n",
       "1    Zone terrestre protégée Ts’udé Nilįné Tuyeta  Ts’udé Nilįné Tuyeta   \n",
       "2           Zone terrestre protégée Thaidene Nëné         Thaidene Nëné   \n",
       "3  Zone de conservation de la faune Thaidene Nëné         Thaidene Nëné   \n",
       "4                                       Ezǫdzìtì             Ezǫdzìtì   \n",
       "\n",
       "     ZONE_ID        ZONEDESC_E BIOME                                   JUR_ID  \\\n",
       "0  610000101  Terrestrial Zone     T  Thelon Wildlife Sanctuary - NWT portion   \n",
       "1  610000201  Terrestrial Zone     T                                     None   \n",
       "2  610000202  Terrestrial Zone     T                                     None   \n",
       "3  610000203  Terrestrial Zone     T                                     None   \n",
       "4  610000301  Terrestrial Zone     T                                     None   \n",
       "\n",
       "   PA_OECM_DF  IUCN_CAT  ...  NO_TAKE_HA MPLAN  MPLAN_REF  M_EFF AUDITYEAR  \\\n",
       "0           1         2  ...         0.0   1.0       None    0.0       NaN   \n",
       "1           1         2  ...         0.0   NaN       None    NaN       NaN   \n",
       "2           1         2  ...         0.0   NaN       None    NaN       NaN   \n",
       "3           2         9  ...         0.0   NaN       None    NaN       NaN   \n",
       "4           1         2  ...         0.0   NaN       None    NaN       NaN   \n",
       "\n",
       "  AUDITRES  PROVIDER   Shape_Length    Shape_Area  \\\n",
       "0     None        61  830171.275201  2.127009e+10   \n",
       "1     None        61  505364.180100  1.010895e+10   \n",
       "2     None        61  958018.746367  9.106363e+09   \n",
       "3     None        61  221170.089268  3.120447e+09   \n",
       "4     None        61  164975.599229  1.375098e+09   \n",
       "\n",
       "                                            geometry  \n",
       "0  MULTIPOLYGON (((-287166.514 2705871.281, -2871...  \n",
       "1  MULTIPOLYGON (((-1408773.044 3273626.745, -140...  \n",
       "2  MULTIPOLYGON (((-713146.239 2569701.709, -7121...  \n",
       "3  MULTIPOLYGON (((-490397.641 2645504.245, -5158...  \n",
       "4  MULTIPOLYGON (((-1063986.349 2881501.817, -109...  \n",
       "\n",
       "[5 rows x 37 columns]"
      ]
     },
     "execution_count": 10,
     "metadata": {},
     "output_type": "execute_result"
    }
   ],
   "source": [
    "protected_areas_gdb.head()"
   ]
  },
  {
   "cell_type": "code",
   "execution_count": 11,
   "metadata": {},
   "outputs": [
    {
     "data": {
      "text/plain": [
       "Index(['PARENT_ID', 'NAME_E', 'NAME_F', 'NAME_IND', 'ZONE_ID', 'ZONEDESC_E',\n",
       "       'BIOME', 'JUR_ID', 'PA_OECM_DF', 'IUCN_CAT', 'IPCA', 'IND_TERM',\n",
       "       'O_AREA_HA', 'LOC', 'MECH_E', 'TYPE_E', 'OWNER_TYPE', 'OWNER_E',\n",
       "       'GOV_TYPE', 'MGMT_E', 'STATUS', 'ESTYEAR', 'QUALYEAR', 'DELISTYEAR',\n",
       "       'SUBSRIGHT', 'CONS_OBJ', 'NO_TAKE', 'NO_TAKE_HA', 'MPLAN', 'MPLAN_REF',\n",
       "       'M_EFF', 'AUDITYEAR', 'AUDITRES', 'PROVIDER', 'Shape_Length',\n",
       "       'Shape_Area', 'geometry'],\n",
       "      dtype='object')"
      ]
     },
     "execution_count": 11,
     "metadata": {},
     "output_type": "execute_result"
    }
   ],
   "source": [
    "protected_areas_gdb.columns"
   ]
  },
  {
   "cell_type": "code",
   "execution_count": 26,
   "metadata": {},
   "outputs": [
    {
     "data": {
      "text/plain": [
       "<AxesSubplot:ylabel='Frequency'>"
      ]
     },
     "execution_count": 26,
     "metadata": {},
     "output_type": "execute_result"
    },
    {
     "data": {
      "image/png": "[encoded data removed]",
      "text/plain": [
       "<Figure size 640x480 with 1 Axes>"
      ]
     },
     "metadata": {},
     "output_type": "display_data"
    }
   ],
   "source": [
    "protected_areas_gdb.IUCN_CAT.plot(kind = 'hist')"
   ]
  },
  {
   "cell_type": "code",
   "execution_count": null,
   "metadata": {},
   "outputs": [],
   "source": [
    "protected_areas_gdb"
   ]
  },
  {
   "cell_type": "code",
   "execution_count": 20,
   "metadata": {},
   "outputs": [
    {
     "data": {
      "text/plain": [
       "<AxesSubplot:ylabel='Frequency'>"
      ]
     },
     "execution_count": 20,
     "metadata": {},
     "output_type": "execute_result"
    },
    {
     "data": {
      "image/png": "[encoded data removed]",
      "text/plain": [
       "<Figure size 640x480 with 1 Axes>"
      ]
     },
     "metadata": {},
     "output_type": "display_data"
    }
   ],
   "source": [
    "protected_areas_gdb.ESTYEAR.plot(kind = 'hist')"
   ]
  }
 ],
 "metadata": {
  "kernelspec": {
   "display_name": "base",
   "language": "python",
   "name": "python3"
  },
  "language_info": {
   "codemirror_mode": {
    "name": "ipython",
    "version": 3
   },
   "file_extension": ".py",
   "mimetype": "text/x-python",
   "name": "python",
   "nbconvert_exporter": "python",
   "pygments_lexer": "ipython3",
   "version": "3.8.18"
  }
 },
 "nbformat": 4,
 "nbformat_minor": 2
}
